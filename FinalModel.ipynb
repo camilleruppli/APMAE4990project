{
 "cells": [
  {
   "cell_type": "markdown",
   "metadata": {},
   "source": [
    "#### This notebook represents the final model (Random forest) chosen for our project with the best performance. "
   ]
  },
  {
   "cell_type": "code",
   "execution_count": 1,
   "metadata": {},
   "outputs": [],
   "source": [
    "import pandas as pd\n",
    "import numpy as np\n",
    "import geohash\n",
    "import sklearn\n",
    "from sklearn.model_selection import GridSearchCV\n",
    "from sklearn.model_selection import train_test_split\n",
    "from sklearn.metrics import confusion_matrix\n",
    "from sklearn.ensemble import RandomForestRegressor\n",
    "from sklearn.datasets import make_regression\n",
    "from sklearn.pipeline import Pipeline\n",
    "from sklearn.model_selection import cross_val_score\n",
    "from sklearn.preprocessing import scale"
   ]
  },
  {
   "cell_type": "markdown",
   "metadata": {},
   "source": [
    "### Read the data"
   ]
  },
  {
   "cell_type": "code",
   "execution_count": 2,
   "metadata": {},
   "outputs": [
    {
     "data": {
      "text/html": [
       "<div>\n",
       "<style scoped>\n",
       "    .dataframe tbody tr th:only-of-type {\n",
       "        vertical-align: middle;\n",
       "    }\n",
       "\n",
       "    .dataframe tbody tr th {\n",
       "        vertical-align: top;\n",
       "    }\n",
       "\n",
       "    .dataframe thead th {\n",
       "        text-align: right;\n",
       "    }\n",
       "</style>\n",
       "<table border=\"1\" class=\"dataframe\">\n",
       "  <thead>\n",
       "    <tr style=\"text-align: right;\">\n",
       "      <th></th>\n",
       "      <th>pickup_latitude</th>\n",
       "      <th>pickup_longitude</th>\n",
       "      <th>dropoff_latitude</th>\n",
       "      <th>dropoff_longitude</th>\n",
       "      <th>travel_time</th>\n",
       "      <th>mo</th>\n",
       "      <th>temp</th>\n",
       "      <th>visib</th>\n",
       "      <th>wdsp</th>\n",
       "      <th>gust</th>\n",
       "      <th>...</th>\n",
       "      <th>day_of_week</th>\n",
       "      <th>weekday</th>\n",
       "      <th>day_binned</th>\n",
       "      <th>day_hour</th>\n",
       "      <th>time_binned</th>\n",
       "      <th>day_number</th>\n",
       "      <th>day_cosine</th>\n",
       "      <th>day_sine</th>\n",
       "      <th>time_cosine</th>\n",
       "      <th>time_sine</th>\n",
       "    </tr>\n",
       "  </thead>\n",
       "  <tbody>\n",
       "    <tr>\n",
       "      <th>0</th>\n",
       "      <td>40.731525</td>\n",
       "      <td>-73.988670</td>\n",
       "      <td>40.760036</td>\n",
       "      <td>-73.984856</td>\n",
       "      <td>626</td>\n",
       "      <td>1</td>\n",
       "      <td>27.1</td>\n",
       "      <td>8.9</td>\n",
       "      <td>7.5</td>\n",
       "      <td>28.9</td>\n",
       "      <td>...</td>\n",
       "      <td>1.0</td>\n",
       "      <td>1.0</td>\n",
       "      <td>0.142857</td>\n",
       "      <td>3.0</td>\n",
       "      <td>0.125000</td>\n",
       "      <td>0.160714</td>\n",
       "      <td>0.532032</td>\n",
       "      <td>0.846724</td>\n",
       "      <td>0.707107</td>\n",
       "      <td>0.707107</td>\n",
       "    </tr>\n",
       "    <tr>\n",
       "      <th>1</th>\n",
       "      <td>40.713608</td>\n",
       "      <td>-74.013718</td>\n",
       "      <td>40.765598</td>\n",
       "      <td>-73.980713</td>\n",
       "      <td>1192</td>\n",
       "      <td>1</td>\n",
       "      <td>32.7</td>\n",
       "      <td>9.6</td>\n",
       "      <td>2.9</td>\n",
       "      <td>999.9</td>\n",
       "      <td>...</td>\n",
       "      <td>1.0</td>\n",
       "      <td>1.0</td>\n",
       "      <td>0.142857</td>\n",
       "      <td>17.0</td>\n",
       "      <td>0.708333</td>\n",
       "      <td>0.244048</td>\n",
       "      <td>0.037391</td>\n",
       "      <td>0.999301</td>\n",
       "      <td>-0.258819</td>\n",
       "      <td>-0.965926</td>\n",
       "    </tr>\n",
       "    <tr>\n",
       "      <th>2</th>\n",
       "      <td>40.773960</td>\n",
       "      <td>-73.874435</td>\n",
       "      <td>40.766693</td>\n",
       "      <td>-73.955414</td>\n",
       "      <td>842</td>\n",
       "      <td>1</td>\n",
       "      <td>18.4</td>\n",
       "      <td>10.0</td>\n",
       "      <td>6.2</td>\n",
       "      <td>22.0</td>\n",
       "      <td>...</td>\n",
       "      <td>2.0</td>\n",
       "      <td>1.0</td>\n",
       "      <td>0.285714</td>\n",
       "      <td>0.0</td>\n",
       "      <td>0.000000</td>\n",
       "      <td>0.285714</td>\n",
       "      <td>-0.222521</td>\n",
       "      <td>0.974928</td>\n",
       "      <td>1.000000</td>\n",
       "      <td>0.000000</td>\n",
       "    </tr>\n",
       "    <tr>\n",
       "      <th>3</th>\n",
       "      <td>40.749718</td>\n",
       "      <td>-73.991570</td>\n",
       "      <td>40.768169</td>\n",
       "      <td>-73.912483</td>\n",
       "      <td>1054</td>\n",
       "      <td>1</td>\n",
       "      <td>40.4</td>\n",
       "      <td>10.0</td>\n",
       "      <td>6.5</td>\n",
       "      <td>22.9</td>\n",
       "      <td>...</td>\n",
       "      <td>5.0</td>\n",
       "      <td>1.0</td>\n",
       "      <td>0.714286</td>\n",
       "      <td>7.0</td>\n",
       "      <td>0.291667</td>\n",
       "      <td>0.755952</td>\n",
       "      <td>0.037391</td>\n",
       "      <td>-0.999301</td>\n",
       "      <td>-0.258819</td>\n",
       "      <td>0.965926</td>\n",
       "    </tr>\n",
       "    <tr>\n",
       "      <th>4</th>\n",
       "      <td>40.762730</td>\n",
       "      <td>-73.974174</td>\n",
       "      <td>40.779640</td>\n",
       "      <td>-73.961823</td>\n",
       "      <td>538</td>\n",
       "      <td>5</td>\n",
       "      <td>77.9</td>\n",
       "      <td>9.0</td>\n",
       "      <td>4.2</td>\n",
       "      <td>19.0</td>\n",
       "      <td>...</td>\n",
       "      <td>0.0</td>\n",
       "      <td>0.0</td>\n",
       "      <td>0.000000</td>\n",
       "      <td>14.0</td>\n",
       "      <td>0.583333</td>\n",
       "      <td>0.083333</td>\n",
       "      <td>0.866025</td>\n",
       "      <td>0.500000</td>\n",
       "      <td>-0.866025</td>\n",
       "      <td>-0.500000</td>\n",
       "    </tr>\n",
       "  </tbody>\n",
       "</table>\n",
       "<p>5 rows × 30 columns</p>\n",
       "</div>"
      ],
      "text/plain": [
       "   pickup_latitude  pickup_longitude  dropoff_latitude  dropoff_longitude  \\\n",
       "0        40.731525        -73.988670         40.760036         -73.984856   \n",
       "1        40.713608        -74.013718         40.765598         -73.980713   \n",
       "2        40.773960        -73.874435         40.766693         -73.955414   \n",
       "3        40.749718        -73.991570         40.768169         -73.912483   \n",
       "4        40.762730        -73.974174         40.779640         -73.961823   \n",
       "\n",
       "   travel_time  mo  temp  visib  wdsp   gust  ...  day_of_week  weekday  \\\n",
       "0          626   1  27.1    8.9   7.5   28.9  ...          1.0      1.0   \n",
       "1         1192   1  32.7    9.6   2.9  999.9  ...          1.0      1.0   \n",
       "2          842   1  18.4   10.0   6.2   22.0  ...          2.0      1.0   \n",
       "3         1054   1  40.4   10.0   6.5   22.9  ...          5.0      1.0   \n",
       "4          538   5  77.9    9.0   4.2   19.0  ...          0.0      0.0   \n",
       "\n",
       "   day_binned  day_hour  time_binned  day_number  day_cosine  day_sine  \\\n",
       "0    0.142857       3.0     0.125000    0.160714    0.532032  0.846724   \n",
       "1    0.142857      17.0     0.708333    0.244048    0.037391  0.999301   \n",
       "2    0.285714       0.0     0.000000    0.285714   -0.222521  0.974928   \n",
       "3    0.714286       7.0     0.291667    0.755952    0.037391 -0.999301   \n",
       "4    0.000000      14.0     0.583333    0.083333    0.866025  0.500000   \n",
       "\n",
       "   time_cosine  time_sine  \n",
       "0     0.707107   0.707107  \n",
       "1    -0.258819  -0.965926  \n",
       "2     1.000000   0.000000  \n",
       "3    -0.258819   0.965926  \n",
       "4    -0.866025  -0.500000  \n",
       "\n",
       "[5 rows x 30 columns]"
      ]
     },
     "execution_count": 2,
     "metadata": {},
     "output_type": "execute_result"
    }
   ],
   "source": [
    "#taxidata=pd.read_csv(\"/Users/diana2/Dropbox/Spring2018Classes/DataSciIndustry/FinalProject/features.csv\")\n",
    "taxidata=pd.read_csv(r'C:\\Users\\diana\\Dropbox\\Spring2018Classes\\DataSciIndustry\\FInalProject/features.csv')\n",
    "\n",
    "taxidata = taxidata.drop(taxidata.columns[0], axis=1)\n",
    "taxidata = taxidata.drop(columns=\"pickup_datetime\", axis=1)\n",
    "taxidata = taxidata.drop(columns=\"date_of_year\", axis=1)\n",
    "taxidata = taxidata.drop(columns=\"year\", axis=1)\n",
    "taxidata = taxidata.drop(columns=\"da\", axis=1)\n",
    "taxidata = taxidata.drop(columns=\"Pickup Geohash\", axis=1)\n",
    "taxidata = taxidata.drop(columns=\"Dropoff Geohash\", axis=1)\n",
    "\n",
    "#print(taxidata.shape)\n",
    "taxidata.head()"
   ]
  },
  {
   "cell_type": "markdown",
   "metadata": {},
   "source": [
    "### Extract and define training and testing data"
   ]
  },
  {
   "cell_type": "markdown",
   "metadata": {},
   "source": [
    "### Random Forest Model (see RandomForest.ipynb notebook for the process of designing this model)"
   ]
  },
  {
   "cell_type": "code",
   "execution_count": 4,
   "metadata": {},
   "outputs": [],
   "source": [
    "def cv_optimize(clf, parameters, X, y, n_jobs=1, n_folds=5, score_func=None, verbose=0):\n",
    "    if score_func:\n",
    "        gs = GridSearchCV(clf, param_grid=parameters, cv=n_folds, n_jobs=n_jobs, scoring=score_func, verbose=verbose)\n",
    "    else:\n",
    "        gs = GridSearchCV(clf, param_grid=parameters, n_jobs=n_jobs, cv=n_folds, verbose=verbose)\n",
    "    gs.fit(X, y)\n",
    "    best = gs.best_estimator_\n",
    "    return best"
   ]
  },
  {
   "cell_type": "markdown",
   "metadata": {},
   "source": [
    "### Extract and define training and testing data"
   ]
  },
  {
   "cell_type": "code",
   "execution_count": 13,
   "metadata": {},
   "outputs": [],
   "source": [
    "X = taxidata.drop([\"travel_time\"], axis=1) # all rows, no label\n",
    "Y = taxidata[\"travel_time\"] # all rows, label only (travel_time)\n",
    "\n",
    "#print(X.shape)\n",
    "#print(Y.shape)\n",
    "\n",
    "X_train2, X_test2, Y_train2, Y_test2 = train_test_split(X, Y, test_size=0.2, random_state=42)"
   ]
  },
  {
   "cell_type": "markdown",
   "metadata": {},
   "source": [
    "### Random Forest"
   ]
  },
  {
   "cell_type": "code",
   "execution_count": 14,
   "metadata": {},
   "outputs": [
    {
     "name": "stdout",
     "output_type": "stream",
     "text": [
      "Fitting 5 folds for each of 1 candidates, totalling 5 fits\n"
     ]
    },
    {
     "name": "stderr",
     "output_type": "stream",
     "text": [
      "[Parallel(n_jobs=1)]: Using backend SequentialBackend with 1 concurrent workers.\n"
     ]
    },
    {
     "name": "stdout",
     "output_type": "stream",
     "text": [
      "[CV] max_depth=50, max_features=auto, n_estimators=50 ................\n",
      "[CV]  max_depth=50, max_features=auto, n_estimators=50, score=-69024.45981810744, total= 8.4min\n"
     ]
    },
    {
     "name": "stderr",
     "output_type": "stream",
     "text": [
      "[Parallel(n_jobs=1)]: Done   1 out of   1 | elapsed:  8.7min remaining:    0.0s\n"
     ]
    },
    {
     "name": "stdout",
     "output_type": "stream",
     "text": [
      "[CV] max_depth=50, max_features=auto, n_estimators=50 ................\n",
      "[CV]  max_depth=50, max_features=auto, n_estimators=50, score=-69447.45558458247, total= 7.7min\n"
     ]
    },
    {
     "name": "stderr",
     "output_type": "stream",
     "text": [
      "[Parallel(n_jobs=1)]: Done   2 out of   2 | elapsed: 16.7min remaining:    0.0s\n"
     ]
    },
    {
     "name": "stdout",
     "output_type": "stream",
     "text": [
      "[CV] max_depth=50, max_features=auto, n_estimators=50 ................\n",
      "[CV]  max_depth=50, max_features=auto, n_estimators=50, score=-69738.95634711851, total= 7.6min\n",
      "[CV] max_depth=50, max_features=auto, n_estimators=50 ................\n",
      "[CV]  max_depth=50, max_features=auto, n_estimators=50, score=-69658.4054745872, total= 7.7min\n",
      "[CV] max_depth=50, max_features=auto, n_estimators=50 ................\n",
      "[CV]  max_depth=50, max_features=auto, n_estimators=50, score=-69337.79934975205, total= 7.7min\n"
     ]
    },
    {
     "name": "stderr",
     "output_type": "stream",
     "text": [
      "[Parallel(n_jobs=1)]: Done   5 out of   5 | elapsed: 40.6min finished\n"
     ]
    }
   ],
   "source": [
    "model = RandomForestRegressor(n_estimators=20, n_jobs=-1)\n",
    "parameters2 = {\"n_estimators\": [50],\n",
    "              \"max_features\": [\"auto\"], # [\"auto\",\"sqrt\",\"log2\"]\n",
    "              \"max_depth\": [50]}\n",
    "best2 = cv_optimize(model, parameters2, X_train2, Y_train2, n_folds=5, score_func='neg_mean_squared_error', verbose=3)\n",
    "\n",
    "# Fit the best Random Forest and calculate R^2 values for training and test sets\n",
    "reg2=best2.fit(X_train2, Y_train2)"
   ]
  },
  {
   "cell_type": "markdown",
   "metadata": {},
   "source": [
    "### Evaluate Performance"
   ]
  },
  {
   "cell_type": "code",
   "execution_count": 25,
   "metadata": {},
   "outputs": [
    {
     "name": "stdout",
     "output_type": "stream",
     "text": [
      "Training R^2: 0.9701\n",
      "Testing R^2: 0.7952\n"
     ]
    },
    {
     "name": "stderr",
     "output_type": "stream",
     "text": [
      "C:\\Users\\diana\\Anaconda3\\lib\\site-packages\\sklearn\\utils\\validation.py:595: DataConversionWarning: Data with input dtype int64 was converted to float64 by the scale function.\n",
      "  warnings.warn(msg, DataConversionWarning)\n"
     ]
    },
    {
     "name": "stdout",
     "output_type": "stream",
     "text": [
      "Training RMSE = 0.166\n"
     ]
    },
    {
     "name": "stderr",
     "output_type": "stream",
     "text": [
      "C:\\Users\\diana\\Anaconda3\\lib\\site-packages\\sklearn\\utils\\validation.py:595: DataConversionWarning: Data with input dtype int64 was converted to float64 by the scale function.\n",
      "  warnings.warn(msg, DataConversionWarning)\n"
     ]
    },
    {
     "name": "stdout",
     "output_type": "stream",
     "text": [
      "Testing RMSE = 0.465\n",
      "Training RMSLE = 0.205\n",
      "Testing RMSLE = 0.401\n"
     ]
    }
   ],
   "source": [
    "from sklearn.metrics import mean_squared_error\n",
    "\n",
    "Y_pred_train=reg2.predict(X_train2)\n",
    "Y_pred_test=reg2.predict(X_test2)\n",
    "\n",
    "training_accuracy2 = reg2.score(X_train2, Y_train2)\n",
    "test_accuracy2 = reg2.score(X_test2, Y_test2)\n",
    "\n",
    "print(\"Training R^2: %0.4f\" % (training_accuracy2))\n",
    "print(\"Testing R^2: %0.4f\" % (test_accuracy2))\n",
    "\n",
    "#Output RMSE, RMSLE\n",
    "#rmse_train = np.sqrt(mean_squared_error(scale(reg2.predict(X_train2)),scale(Y_train2)))\n",
    "rmse_train = np.sqrt(mean_squared_error(scale(reg2.predict(X_train2)),scale(Y_train2)))\n",
    "print(\"Training RMSE = %0.3f\" % rmse_train)\n",
    "\n",
    "rmse_test = np.sqrt(mean_squared_error(scale(reg2.predict(X_test2)),scale(Y_test2)))\n",
    "print(\"Testing RMSE = %0.3f\" % rmse_test)\n",
    "\n",
    "rmsle_train = np.sqrt(np.mean(np.power(np.log1p(Y_pred_train) - np.log1p(Y_train2), 2)))\n",
    "print(\"Training RMSLE = %0.3f\" % rmsle_train)\n",
    "rmsle_test = np.sqrt(np.mean(np.power(np.log1p(Y_pred_test) - np.log1p(Y_test2), 2)))\n",
    "print(\"Testing RMSLE = %0.3f\" % rmsle_test)"
   ]
  },
  {
   "cell_type": "markdown",
   "metadata": {},
   "source": [
    "### Evaluate Feature Importance"
   ]
  },
  {
   "cell_type": "code",
   "execution_count": 67,
   "metadata": {},
   "outputs": [
    {
     "data": {
      "image/png": "[encoded data removed]",
      "text/plain": [
       "<Figure size 1152x864 with 1 Axes>"
      ]
     },
     "metadata": {
      "needs_background": "light"
     },
     "output_type": "display_data"
    }
   ],
   "source": [
    "import matplotlib.pyplot as plt\n",
    "\n",
    "feats = {} # a dict to hold feature_name: feature_importance\n",
    "for feature, importance in zip(X_train2.columns, reg2.feature_importances_):\n",
    "    feats[feature] = importance #add the name/value pair \n",
    "\n",
    "importances = pd.DataFrame.from_dict(feats, orient='index').rename(columns={0: 'Features'})\n",
    "importances.sort_values(by='Features').plot(kind='bar', rot=45, figsize=(16, 12), fontsize=14)\n",
    "plt.title(\"Feature Importances\")\n",
    "plt.xlabel(\"Features\")\n",
    "plt.ylabel(\"Feature importance\")\n",
    "plt.tight_layout()\n",
    "plt.savefig('feature_importances.png')"
   ]
  },
  {
   "cell_type": "markdown",
   "metadata": {},
   "source": [
    "### Generate predictions on test dataset "
   ]
  },
  {
   "cell_type": "code",
   "execution_count": 58,
   "metadata": {},
   "outputs": [
    {
     "name": "stdout",
     "output_type": "stream",
     "text": [
      "Unnamed: 0\n",
      "pickup_datetime\n",
      "passenger_count\n"
     ]
    }
   ],
   "source": [
    "#taxi_weather_data.csv has been supplemented with weather information and other features needed to make predictions\n",
    "testing_data = pd.read_csv(r'C:\\Users\\diana\\Dropbox\\Spring2018Classes\\DataSciIndustry\\FInalProject\\taxi_weather_data.csv')\n",
    "col_model=taxidata.columns.values\n",
    "col_test=testing_data.columns.values\n",
    "to_delete=[]\n",
    "for i in col_test:\n",
    "    if i not in col_model:\n",
    "        print(i)\n",
    "        to_delete.append(i)\n",
    "testing_data=testing_data.drop(to_delete,axis=1)\n",
    "#testing_data = testing_data.drop(testing_data.columns[0], axis=1)\n",
    "#testing_data = testing_data.drop(columns=\"pickup_datetime\", axis=1)\n",
    "testing_data = testing_data.fillna(testing_data.mean())\n",
    "predictions = reg2.predict(testing_data)"
   ]
  },
  {
   "cell_type": "markdown",
   "metadata": {},
   "source": [
    "### Write predictions to a new CSV called \"predictions.csv\""
   ]
  },
  {
   "cell_type": "code",
   "execution_count": 64,
   "metadata": {},
   "outputs": [],
   "source": [
    "#Read test data provided by Dr. Goldman\n",
    "df = pd.read_csv(r'C:\\Users\\diana\\Dropbox\\Spring2018Classes\\DataSciIndustry\\FInalProject\\APM4990_final_test_data_filtered.csv')\n",
    "\n",
    "#Add a new column to test data csv entitled \"predictions\"\n",
    "df['predictions'] = predictions\n",
    "\n",
    "#Final CSV with predictions is called \"predictions\"\n",
    "df.to_csv(r'C:\\Users\\diana\\Dropbox\\Spring2018Classes\\DataSciIndustry\\FInalProject\\predictions_final.csv')\n"
   ]
  },
  {
   "cell_type": "code",
   "execution_count": null,
   "metadata": {},
   "outputs": [],
   "source": []
  }
 ],
 "metadata": {
  "kernelspec": {
   "display_name": "Python 3",
   "language": "python",
   "name": "python3"
  },
  "language_info": {
   "codemirror_mode": {
    "name": "ipython",
    "version": 3
   },
   "file_extension": ".py",
   "mimetype": "text/x-python",
   "name": "python",
   "nbconvert_exporter": "python",
   "pygments_lexer": "ipython3",
   "version": "3.7.3"
  }
 },
 "nbformat": 4,
 "nbformat_minor": 2
}
