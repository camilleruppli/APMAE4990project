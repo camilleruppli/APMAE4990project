{
 "cells": [
  {
   "cell_type": "code",
   "execution_count": 12,
   "metadata": {},
   "outputs": [],
   "source": [
    "import pandas as pd\n",
    "import numpy as np\n",
    "import geohash\n",
    "import sklearn\n",
    "from sklearn.model_selection import GridSearchCV\n",
    "from sklearn.model_selection import train_test_split\n",
    "from sklearn.metrics import confusion_matrix\n",
    "from sklearn.ensemble import RandomForestRegressor\n",
    "from sklearn.datasets import make_regression\n",
    "from sklearn.pipeline import Pipeline\n",
    "from sklearn.model_selection import cross_val_score\n",
    "from sklearn.preprocessing import scale"
   ]
  },
  {
   "cell_type": "markdown",
   "metadata": {},
   "source": [
    "### Read the data"
   ]
  },
  {
   "cell_type": "code",
   "execution_count": 13,
   "metadata": {},
   "outputs": [
    {
     "data": {
      "text/html": [
       "<div>\n",
       "<style scoped>\n",
       "    .dataframe tbody tr th:only-of-type {\n",
       "        vertical-align: middle;\n",
       "    }\n",
       "\n",
       "    .dataframe tbody tr th {\n",
       "        vertical-align: top;\n",
       "    }\n",
       "\n",
       "    .dataframe thead th {\n",
       "        text-align: right;\n",
       "    }\n",
       "</style>\n",
       "<table border=\"1\" class=\"dataframe\">\n",
       "  <thead>\n",
       "    <tr style=\"text-align: right;\">\n",
       "      <th></th>\n",
       "      <th>pickup_latitude</th>\n",
       "      <th>pickup_longitude</th>\n",
       "      <th>dropoff_latitude</th>\n",
       "      <th>dropoff_longitude</th>\n",
       "      <th>travel_time</th>\n",
       "      <th>year</th>\n",
       "      <th>mo</th>\n",
       "      <th>da</th>\n",
       "      <th>temp</th>\n",
       "      <th>visib</th>\n",
       "      <th>...</th>\n",
       "      <th>day_of_week</th>\n",
       "      <th>weekday</th>\n",
       "      <th>day_binned</th>\n",
       "      <th>day_hour</th>\n",
       "      <th>time_binned</th>\n",
       "      <th>day_number</th>\n",
       "      <th>day_cosine</th>\n",
       "      <th>day_sine</th>\n",
       "      <th>time_cosine</th>\n",
       "      <th>time_sine</th>\n",
       "    </tr>\n",
       "  </thead>\n",
       "  <tbody>\n",
       "    <tr>\n",
       "      <th>0</th>\n",
       "      <td>40.731525</td>\n",
       "      <td>-73.988670</td>\n",
       "      <td>40.760036</td>\n",
       "      <td>-73.984856</td>\n",
       "      <td>626</td>\n",
       "      <td>2016</td>\n",
       "      <td>1</td>\n",
       "      <td>18</td>\n",
       "      <td>27.1</td>\n",
       "      <td>8.9</td>\n",
       "      <td>...</td>\n",
       "      <td>1.0</td>\n",
       "      <td>1.0</td>\n",
       "      <td>0.142857</td>\n",
       "      <td>3.0</td>\n",
       "      <td>0.125000</td>\n",
       "      <td>0.160714</td>\n",
       "      <td>0.532032</td>\n",
       "      <td>0.846724</td>\n",
       "      <td>0.707107</td>\n",
       "      <td>0.707107</td>\n",
       "    </tr>\n",
       "    <tr>\n",
       "      <th>1</th>\n",
       "      <td>40.713608</td>\n",
       "      <td>-74.013718</td>\n",
       "      <td>40.765598</td>\n",
       "      <td>-73.980713</td>\n",
       "      <td>1192</td>\n",
       "      <td>2016</td>\n",
       "      <td>1</td>\n",
       "      <td>25</td>\n",
       "      <td>32.7</td>\n",
       "      <td>9.6</td>\n",
       "      <td>...</td>\n",
       "      <td>1.0</td>\n",
       "      <td>1.0</td>\n",
       "      <td>0.142857</td>\n",
       "      <td>17.0</td>\n",
       "      <td>0.708333</td>\n",
       "      <td>0.244048</td>\n",
       "      <td>0.037391</td>\n",
       "      <td>0.999301</td>\n",
       "      <td>-0.258819</td>\n",
       "      <td>-0.965926</td>\n",
       "    </tr>\n",
       "    <tr>\n",
       "      <th>2</th>\n",
       "      <td>40.773960</td>\n",
       "      <td>-73.874435</td>\n",
       "      <td>40.766693</td>\n",
       "      <td>-73.955414</td>\n",
       "      <td>842</td>\n",
       "      <td>2016</td>\n",
       "      <td>1</td>\n",
       "      <td>5</td>\n",
       "      <td>18.4</td>\n",
       "      <td>10.0</td>\n",
       "      <td>...</td>\n",
       "      <td>2.0</td>\n",
       "      <td>1.0</td>\n",
       "      <td>0.285714</td>\n",
       "      <td>0.0</td>\n",
       "      <td>0.000000</td>\n",
       "      <td>0.285714</td>\n",
       "      <td>-0.222521</td>\n",
       "      <td>0.974928</td>\n",
       "      <td>1.000000</td>\n",
       "      <td>0.000000</td>\n",
       "    </tr>\n",
       "    <tr>\n",
       "      <th>3</th>\n",
       "      <td>40.749718</td>\n",
       "      <td>-73.991570</td>\n",
       "      <td>40.768169</td>\n",
       "      <td>-73.912483</td>\n",
       "      <td>1054</td>\n",
       "      <td>2016</td>\n",
       "      <td>1</td>\n",
       "      <td>1</td>\n",
       "      <td>40.4</td>\n",
       "      <td>10.0</td>\n",
       "      <td>...</td>\n",
       "      <td>5.0</td>\n",
       "      <td>1.0</td>\n",
       "      <td>0.714286</td>\n",
       "      <td>7.0</td>\n",
       "      <td>0.291667</td>\n",
       "      <td>0.755952</td>\n",
       "      <td>0.037391</td>\n",
       "      <td>-0.999301</td>\n",
       "      <td>-0.258819</td>\n",
       "      <td>0.965926</td>\n",
       "    </tr>\n",
       "    <tr>\n",
       "      <th>4</th>\n",
       "      <td>40.762730</td>\n",
       "      <td>-73.974174</td>\n",
       "      <td>40.779640</td>\n",
       "      <td>-73.961823</td>\n",
       "      <td>538</td>\n",
       "      <td>2016</td>\n",
       "      <td>5</td>\n",
       "      <td>29</td>\n",
       "      <td>77.9</td>\n",
       "      <td>9.0</td>\n",
       "      <td>...</td>\n",
       "      <td>0.0</td>\n",
       "      <td>0.0</td>\n",
       "      <td>0.000000</td>\n",
       "      <td>14.0</td>\n",
       "      <td>0.583333</td>\n",
       "      <td>0.083333</td>\n",
       "      <td>0.866025</td>\n",
       "      <td>0.500000</td>\n",
       "      <td>-0.866025</td>\n",
       "      <td>-0.500000</td>\n",
       "    </tr>\n",
       "  </tbody>\n",
       "</table>\n",
       "<p>5 rows × 32 columns</p>\n",
       "</div>"
      ],
      "text/plain": [
       "   pickup_latitude  pickup_longitude  dropoff_latitude  dropoff_longitude  \\\n",
       "0        40.731525        -73.988670         40.760036         -73.984856   \n",
       "1        40.713608        -74.013718         40.765598         -73.980713   \n",
       "2        40.773960        -73.874435         40.766693         -73.955414   \n",
       "3        40.749718        -73.991570         40.768169         -73.912483   \n",
       "4        40.762730        -73.974174         40.779640         -73.961823   \n",
       "\n",
       "   travel_time  year  mo  da  temp  visib  ...  day_of_week  weekday  \\\n",
       "0          626  2016   1  18  27.1    8.9  ...          1.0      1.0   \n",
       "1         1192  2016   1  25  32.7    9.6  ...          1.0      1.0   \n",
       "2          842  2016   1   5  18.4   10.0  ...          2.0      1.0   \n",
       "3         1054  2016   1   1  40.4   10.0  ...          5.0      1.0   \n",
       "4          538  2016   5  29  77.9    9.0  ...          0.0      0.0   \n",
       "\n",
       "   day_binned  day_hour  time_binned  day_number  day_cosine  day_sine  \\\n",
       "0    0.142857       3.0     0.125000    0.160714    0.532032  0.846724   \n",
       "1    0.142857      17.0     0.708333    0.244048    0.037391  0.999301   \n",
       "2    0.285714       0.0     0.000000    0.285714   -0.222521  0.974928   \n",
       "3    0.714286       7.0     0.291667    0.755952    0.037391 -0.999301   \n",
       "4    0.000000      14.0     0.583333    0.083333    0.866025  0.500000   \n",
       "\n",
       "   time_cosine  time_sine  \n",
       "0     0.707107   0.707107  \n",
       "1    -0.258819  -0.965926  \n",
       "2     1.000000   0.000000  \n",
       "3    -0.258819   0.965926  \n",
       "4    -0.866025  -0.500000  \n",
       "\n",
       "[5 rows x 32 columns]"
      ]
     },
     "execution_count": 13,
     "metadata": {},
     "output_type": "execute_result"
    }
   ],
   "source": [
    "#taxidata=pd.read_csv(\"/Users/diana2/Dropbox/Spring2018Classes/DataSciIndustry/FinalProject/features.csv\")\n",
    "taxidata=pd.read_csv(r'C:\\Users\\diana\\Dropbox\\Spring2018Classes\\DataSciIndustry\\FInalProject/features.csv')\n",
    "\n",
    "taxidata = taxidata.drop(taxidata.columns[0], axis=1)\n",
    "taxidata = taxidata.drop(columns=\"pickup_datetime\", axis=1)\n",
    "taxidata = taxidata.drop(columns=\"date_of_year\", axis=1)\n",
    "taxidata = taxidata.drop(columns=\"Pickup Geohash\", axis=1)\n",
    "taxidata = taxidata.drop(columns=\"Dropoff Geohash\", axis=1)\n",
    "#taxidata = taxidata.drop(columns=\"distance_in_km\", axis=1)\n",
    "#print(taxidata.shape)\n",
    "taxidata.head()"
   ]
  },
  {
   "cell_type": "markdown",
   "metadata": {},
   "source": [
    "### Extract and define training and testing data"
   ]
  },
  {
   "cell_type": "code",
   "execution_count": 33,
   "metadata": {},
   "outputs": [],
   "source": [
    "X = taxidata.drop([\"travel_time\"], axis=1) # all rows, no label\n",
    "Y = taxidata[\"travel_time\"] # all rows, label only (travel_time)\n",
    "\n",
    "#print(X.shape)\n",
    "#print(Y.shape)\n",
    "\n",
    "X_train, X_test, Y_train, Y_test = train_test_split(X, Y, test_size=0.2, random_state=42)\n",
    "#print(X_train.shape)\n",
    "#print(X_test.shape)\n",
    "#print(Y_train.shape)\n",
    "#print(Y_test.shape)\n",
    "\n",
    "X_train = X_train.iloc[0:800000,:]\n",
    "X_test = X_test.iloc[0:200000,:]\n",
    "Y_train = Y_train.iloc[0:800000,]\n",
    "Y_test = Y_test.iloc[0:200000,]\n",
    "\n",
    "#print(X_train.shape)\n",
    "#print(X_test.shape)\n",
    "#print(Y_train.shape)\n",
    "#print(Y_test.shape)"
   ]
  },
  {
   "cell_type": "markdown",
   "metadata": {},
   "source": [
    "### Cross Validation"
   ]
  },
  {
   "cell_type": "code",
   "execution_count": 63,
   "metadata": {},
   "outputs": [],
   "source": [
    "def cv_optimize(clf, parameters, X, y, n_jobs=1, n_folds=5, score_func=None, verbose=0):\n",
    "    if score_func:\n",
    "        gs = GridSearchCV(clf, param_grid=parameters, cv=n_folds, n_jobs=n_jobs, scoring=score_func, verbose=verbose)\n",
    "    else:\n",
    "        gs = GridSearchCV(clf, param_grid=parameters, n_jobs=n_jobs, cv=n_folds, verbose=verbose)\n",
    "    gs.fit(X, y)\n",
    "    \n",
    "    best = gs.best_estimator_\n",
    "    return best"
   ]
  },
  {
   "cell_type": "markdown",
   "metadata": {},
   "source": [
    "### Random Forest"
   ]
  },
  {
   "cell_type": "code",
   "execution_count": 37,
   "metadata": {},
   "outputs": [
    {
     "name": "stdout",
     "output_type": "stream",
     "text": [
      "Fitting 5 folds for each of 1 candidates, totalling 5 fits\n",
      "[CV] max_depth=50, max_features=auto, n_estimators=50 ................\n"
     ]
    },
    {
     "name": "stderr",
     "output_type": "stream",
     "text": [
      "[Parallel(n_jobs=1)]: Using backend SequentialBackend with 1 concurrent workers.\n"
     ]
    },
    {
     "name": "stdout",
     "output_type": "stream",
     "text": [
      "[CV]  max_depth=50, max_features=auto, n_estimators=50, score=-75218.29599646099, total= 2.5min\n",
      "[CV] max_depth=50, max_features=auto, n_estimators=50 ................\n"
     ]
    },
    {
     "name": "stderr",
     "output_type": "stream",
     "text": [
      "[Parallel(n_jobs=1)]: Done   1 out of   1 | elapsed:  2.6min remaining:    0.0s\n"
     ]
    },
    {
     "name": "stdout",
     "output_type": "stream",
     "text": [
      "[CV]  max_depth=50, max_features=auto, n_estimators=50, score=-73750.14269067366, total= 2.2min\n"
     ]
    },
    {
     "name": "stderr",
     "output_type": "stream",
     "text": [
      "[Parallel(n_jobs=1)]: Done   2 out of   2 | elapsed:  4.9min remaining:    0.0s\n"
     ]
    },
    {
     "name": "stdout",
     "output_type": "stream",
     "text": [
      "[CV] max_depth=50, max_features=auto, n_estimators=50 ................\n",
      "[CV]  max_depth=50, max_features=auto, n_estimators=50, score=-75271.45250901688, total= 2.2min\n",
      "[CV] max_depth=50, max_features=auto, n_estimators=50 ................\n",
      "[CV]  max_depth=50, max_features=auto, n_estimators=50, score=-75296.84183691352, total= 2.2min\n",
      "[CV] max_depth=50, max_features=auto, n_estimators=50 ................\n",
      "[CV]  max_depth=50, max_features=auto, n_estimators=50, score=-74800.81302143802, total= 2.2min\n"
     ]
    },
    {
     "name": "stderr",
     "output_type": "stream",
     "text": [
      "[Parallel(n_jobs=1)]: Done   5 out of   5 | elapsed: 11.7min finished\n"
     ]
    }
   ],
   "source": [
    "from matplotlib import pyplot as plt\n",
    "#Easy Random Forest\n",
    "model = RandomForestRegressor(n_estimators=20, n_jobs=-1)\n",
    "parameters = {\"n_estimators\": [50],\n",
    "              \"max_features\": [\"auto\"], # [\"auto\",\"sqrt\",\"log2\"]\n",
    "              \"max_depth\": [50]}\n",
    "best = cv_optimize(model, parameters, X_train, Y_train, n_folds=5, score_func='neg_mean_squared_error', verbose=3)"
   ]
  },
  {
   "cell_type": "markdown",
   "metadata": {},
   "source": [
    "### Evaluate the Results (contiguous with above code block)"
   ]
  },
  {
   "cell_type": "code",
   "execution_count": 40,
   "metadata": {},
   "outputs": [
    {
     "name": "stdout",
     "output_type": "stream",
     "text": [
      "############# based on standard predict ################\n",
      "R^2 on training data: 0.9677\n",
      "R^2 on test data:     0.7799\n"
     ]
    }
   ],
   "source": [
    "# Fit the best Random Forest and calculate R^2 values for training and test sets\n",
    "reg=best.fit(X_train, Y_train)\n",
    "training_accuracy = reg.score(X_train, Y_train)\n",
    "test_accuracy = reg.score(X_test, Y_test)\n",
    "print(\"############# based on standard predict ################\")\n",
    "print(\"R^2 on training data: %0.4f\" % (training_accuracy))\n",
    "print(\"R^2 on test data:     %0.4f\" % (test_accuracy))"
   ]
  },
  {
   "cell_type": "code",
   "execution_count": 43,
   "metadata": {},
   "outputs": [
    {
     "name": "stdout",
     "output_type": "stream",
     "text": [
      "RMSE = 271.080 (this is in log-space!)\n",
      "So two thirds of the records would be a factor of less than 12019595507236507853347619142754399106861268087099559972628500454717956968880272379269178288612372734763370107124513437015366059331479781683003217600665453400485548259170603623087362238465498266018295340279845098017880980945856527538256050245541836478227256881519775449088.00 away from the real value.\n"
     ]
    }
   ],
   "source": [
    "# Calculate the Root Mean Squared Error\n",
    "rmse = np.sqrt(sklearn.metrics.mean_squared_error(reg.predict(X_test),Y_test))\n",
    "print(\"RMSE = %0.3f (this is in log-space!)\" % rmse)\n",
    "print(\"So two thirds of the records would be a factor of less than %0.2f away from the real value.\" % np.power(10,rmse))"
   ]
  },
  {
   "cell_type": "markdown",
   "metadata": {},
   "source": [
    "### What are the most important features? "
   ]
  },
  {
   "cell_type": "code",
   "execution_count": 44,
   "metadata": {},
   "outputs": [
    {
     "data": {
      "text/plain": [
       "[('distance_in_km', 0.6050026590932752),\n",
       " ('dropoff_latitude', 0.05713707334481019),\n",
       " ('pickup_longitude', 0.05119147573082785),\n",
       " ('dropoff_longitude', 0.050264870943778364),\n",
       " ('pickup_latitude', 0.04181589581412968),\n",
       " ('time_cosine', 0.02901557315573893),\n",
       " ('day_cosine', 0.01810780488141135),\n",
       " ('day_hour', 0.015027205520294287),\n",
       " ('time_binned', 0.013373097297582476),\n",
       " ('time_sine', 0.011911472711781562),\n",
       " ('wdsp', 0.011505733551526136),\n",
       " ('da', 0.011290129830904171),\n",
       " ('day_sine', 0.010053727338569674),\n",
       " ('temp', 0.008972744883201364),\n",
       " ('day_number', 0.008932628321444487),\n",
       " ('min', 0.00814277869807623),\n",
       " ('max', 0.007175072338710713),\n",
       " ('weekday', 0.006877571036317424),\n",
       " ('mo', 0.006851733093665959),\n",
       " ('gust', 0.006768602331087682),\n",
       " ('visib', 0.00654724222868589),\n",
       " ('prcp', 0.004939605011256528),\n",
       " ('sndp', 0.0031337221967517536),\n",
       " ('day_binned', 0.0018961663160417081),\n",
       " ('day_of_week', 0.0017060990677890743),\n",
       " ('rain_drizzle', 0.0012193081699795176),\n",
       " ('fog', 0.000645785252720676),\n",
       " ('snow_ice_pellets', 0.0004942218396410498),\n",
       " ('year', 0.0),\n",
       " ('hail', 0.0),\n",
       " ('thunder', 0.0)]"
      ]
     },
     "execution_count": 44,
     "metadata": {},
     "output_type": "execute_result"
    }
   ],
   "source": [
    "# What are the most important features?\n",
    "import operator\n",
    "dict_feat_imp = dict(zip(list(X.columns.values),reg.feature_importances_))\n",
    "\n",
    "sorted_features = sorted(dict_feat_imp.items(), key=operator.itemgetter(1), reverse=True)\n",
    "sorted_features"
   ]
  },
  {
   "cell_type": "markdown",
   "metadata": {},
   "source": [
    "### Find optimal numer of estimators"
   ]
  },
  {
   "cell_type": "code",
   "execution_count": 45,
   "metadata": {},
   "outputs": [
    {
     "name": "stdout",
     "output_type": "stream",
     "text": [
      "Training R2, 10 estimators: 0.9555277370940122\n",
      "Testing R2, 10 estimators: 0.7587428048917149\n",
      "Training R2, 20 estimators: 0.9632315216696417\n",
      "Testing R2, 20 estimators: 0.771309808356913\n",
      "Training R2, 30 estimators: 0.9657130576996811\n",
      "Testing R2, 30 estimators: 0.7764107892238256\n",
      "Training R2, 40 estimators: 0.9669132145811213\n",
      "Testing R2, 40 estimators: 0.778926524078088\n",
      "Training R2, 50 estimators: 0.9676886073023269\n",
      "Testing R2, 50 estimators: 0.7797394521762042\n",
      "Training R2, 60 estimators: 0.9682688482967167\n",
      "Testing R2, 60 estimators: 0.7812021505401445\n",
      "Training R2, 70 estimators: 0.9685711282115411\n",
      "Testing R2, 70 estimators: 0.7812638832389911\n",
      "Training R2, 80 estimators: 0.9688139570568745\n",
      "Testing R2, 80 estimators: 0.7817944486302382\n",
      "Training R2, 90 estimators: 0.9690004760876215\n",
      "Testing R2, 90 estimators: 0.7824383423143965\n",
      "Training R2, 100 estimators: 0.9692133793596092\n",
      "Testing R2, 100 estimators: 0.7824480813498644\n",
      "Training R2, 110 estimators: 0.9693584210020774\n",
      "Testing R2, 110 estimators: 0.7830311953197633\n",
      "Training R2, 120 estimators: 0.9694486709603157\n",
      "Testing R2, 120 estimators: 0.7830121207387233\n",
      "Training R2, 130 estimators: 0.9695250409075329\n",
      "Testing R2, 130 estimators: 0.7832459742150041\n",
      "Training R2, 140 estimators: 0.9696722547533757\n",
      "Testing R2, 140 estimators: 0.7833308733740532\n",
      "Training R2, 150 estimators: 0.9697594568137102\n",
      "Testing R2, 150 estimators: 0.7834692425160947\n",
      "Training R2, 160 estimators: 0.9697568922430562\n",
      "Testing R2, 160 estimators: 0.7836861038713947\n",
      "Training R2, 170 estimators: 0.9698204242518348\n",
      "Testing R2, 170 estimators: 0.7838409550987397\n",
      "Training R2, 180 estimators: 0.9699270995850509\n",
      "Testing R2, 180 estimators: 0.7838670800377519\n",
      "Training R2, 190 estimators: 0.969912782572642\n",
      "Testing R2, 190 estimators: 0.7837695080915877\n"
     ]
    },
    {
     "data": {
      "image/png": "[encoded data removed]",
      "text/plain": [
       "<Figure size 432x288 with 1 Axes>"
      ]
     },
     "metadata": {
      "needs_background": "light"
     },
     "output_type": "display_data"
    }
   ],
   "source": [
    "estimators = np.arange(10, 200, 10)\n",
    "train_scores = []\n",
    "test_scores = []\n",
    "for n in estimators: \n",
    "    model.set_params(n_estimators=n)\n",
    "    model.fit(X_train, Y_train)\n",
    "    train_scores.append(model.score(X_train, Y_train))\n",
    "    test_scores.append(model.score(X_test, Y_test))\n",
    "    print(\"Training R2, {} estimators: {}\".format(n, model.score(X_train, Y_train)))\n",
    "    print(\"Testing R2, {} estimators: {}\".format(n, model.score(X_test, Y_test)))\n",
    "plt.title(\"Effect of n_estimators\")\n",
    "plt.xlabel(\"n_estimator\")\n",
    "plt.ylabel(\"R2 score\")\n",
    "plt.plot(estimators, train_scores, label=\"training\")\n",
    "plt.plot(estimators, test_scores, label=\"testing\")\n",
    "plt.legend()\n",
    "plt.show()"
   ]
  },
  {
   "cell_type": "markdown",
   "metadata": {},
   "source": [
    "Based on the above plot, we chose to use 50 estimators, because R2 score does not significantly increase after this point. "
   ]
  },
  {
   "cell_type": "markdown",
   "metadata": {},
   "source": [
    "### Reduce analysis to 10 most important features and 1 million datapoints"
   ]
  },
  {
   "cell_type": "code",
   "execution_count": 46,
   "metadata": {
    "scrolled": true
   },
   "outputs": [
    {
     "name": "stdout",
     "output_type": "stream",
     "text": [
      "Fitting 5 folds for each of 1 candidates, totalling 5 fits\n",
      "[CV] max_depth=50, max_features=auto, n_estimators=50 ................\n"
     ]
    },
    {
     "name": "stderr",
     "output_type": "stream",
     "text": [
      "[Parallel(n_jobs=1)]: Using backend SequentialBackend with 1 concurrent workers.\n"
     ]
    },
    {
     "name": "stdout",
     "output_type": "stream",
     "text": [
      "[CV]  max_depth=50, max_features=auto, n_estimators=50, score=-79050.80442884615, total= 1.2min\n",
      "[CV] max_depth=50, max_features=auto, n_estimators=50 ................\n"
     ]
    },
    {
     "name": "stderr",
     "output_type": "stream",
     "text": [
      "[Parallel(n_jobs=1)]: Done   1 out of   1 | elapsed:  1.3min remaining:    0.0s\n"
     ]
    },
    {
     "name": "stdout",
     "output_type": "stream",
     "text": [
      "[CV]  max_depth=50, max_features=auto, n_estimators=50, score=-77853.7316232121, total= 1.2min\n"
     ]
    },
    {
     "name": "stderr",
     "output_type": "stream",
     "text": [
      "[Parallel(n_jobs=1)]: Done   2 out of   2 | elapsed:  2.6min remaining:    0.0s\n"
     ]
    },
    {
     "name": "stdout",
     "output_type": "stream",
     "text": [
      "[CV] max_depth=50, max_features=auto, n_estimators=50 ................\n",
      "[CV]  max_depth=50, max_features=auto, n_estimators=50, score=-79198.3716977557, total= 1.2min\n",
      "[CV] max_depth=50, max_features=auto, n_estimators=50 ................\n",
      "[CV]  max_depth=50, max_features=auto, n_estimators=50, score=-79751.52305289646, total= 1.2min\n",
      "[CV] max_depth=50, max_features=auto, n_estimators=50 ................\n",
      "[CV]  max_depth=50, max_features=auto, n_estimators=50, score=-78771.03002605702, total= 1.2min\n"
     ]
    },
    {
     "name": "stderr",
     "output_type": "stream",
     "text": [
      "[Parallel(n_jobs=1)]: Done   5 out of   5 | elapsed:  6.3min finished\n"
     ]
    },
    {
     "ename": "NameError",
     "evalue": "name 'Y_test22' is not defined",
     "output_type": "error",
     "traceback": [
      "\u001b[1;31m---------------------------------------------------------------------------\u001b[0m",
      "\u001b[1;31mNameError\u001b[0m                                 Traceback (most recent call last)",
      "\u001b[1;32m<ipython-input-46-0ecbe1ddd977>\u001b[0m in \u001b[0;36m<module>\u001b[1;34m\u001b[0m\n\u001b[0;32m     28\u001b[0m \u001b[0mreg2\u001b[0m\u001b[1;33m=\u001b[0m\u001b[0mbest2\u001b[0m\u001b[1;33m.\u001b[0m\u001b[0mfit\u001b[0m\u001b[1;33m(\u001b[0m\u001b[0mX_train2\u001b[0m\u001b[1;33m,\u001b[0m \u001b[0mY_train2\u001b[0m\u001b[1;33m)\u001b[0m\u001b[1;33m\u001b[0m\u001b[1;33m\u001b[0m\u001b[0m\n\u001b[0;32m     29\u001b[0m \u001b[0mtraining_accuracy2\u001b[0m \u001b[1;33m=\u001b[0m \u001b[0mreg2\u001b[0m\u001b[1;33m.\u001b[0m\u001b[0mscore\u001b[0m\u001b[1;33m(\u001b[0m\u001b[0mX_train2\u001b[0m\u001b[1;33m,\u001b[0m \u001b[0mY_train2\u001b[0m\u001b[1;33m)\u001b[0m\u001b[1;33m\u001b[0m\u001b[1;33m\u001b[0m\u001b[0m\n\u001b[1;32m---> 30\u001b[1;33m \u001b[0mtest_accuracy2\u001b[0m \u001b[1;33m=\u001b[0m \u001b[0mreg2\u001b[0m\u001b[1;33m.\u001b[0m\u001b[0mscore\u001b[0m\u001b[1;33m(\u001b[0m\u001b[0mX_test2\u001b[0m\u001b[1;33m,\u001b[0m \u001b[0mY_test22\u001b[0m\u001b[1;33m)\u001b[0m\u001b[1;33m\u001b[0m\u001b[1;33m\u001b[0m\u001b[0m\n\u001b[0m\u001b[0;32m     31\u001b[0m \u001b[0mprint\u001b[0m\u001b[1;33m(\u001b[0m\u001b[1;34m\"############# based on standard predict ################\"\u001b[0m\u001b[1;33m)\u001b[0m\u001b[1;33m\u001b[0m\u001b[1;33m\u001b[0m\u001b[0m\n\u001b[0;32m     32\u001b[0m \u001b[0mprint\u001b[0m\u001b[1;33m(\u001b[0m\u001b[1;34m\"R^2 on training data: %0.4f\"\u001b[0m \u001b[1;33m%\u001b[0m \u001b[1;33m(\u001b[0m\u001b[0mtraining_accuracy2\u001b[0m\u001b[1;33m)\u001b[0m\u001b[1;33m)\u001b[0m\u001b[1;33m\u001b[0m\u001b[1;33m\u001b[0m\u001b[0m\n",
      "\u001b[1;31mNameError\u001b[0m: name 'Y_test22' is not defined"
     ]
    }
   ],
   "source": [
    "taxidata_10features = taxidata.drop(columns=['wdsp', 'da', 'day_sine', 'temp', 'day_number', 'min', 'max', 'weekday', 'mo', 'gust', 'visib', 'prcp', 'sndp', 'day_binned', 'day_of_week', 'rain_drizzle', 'fog', 'snow_ice_pellets', 'year', 'hail', 'thunder'])\n",
    "X2 = taxidata_10features.drop([\"travel_time\"], axis=1) # all rows, no label\n",
    "Y2 = taxidata_10features[\"travel_time\"] # all rows, label only (travel_time)\n",
    "\n",
    "#print(X.shape)\n",
    "#print(Y.shape)\n",
    "\n",
    "X_train2, X_test2, Y_train2, Y_test2 = train_test_split(X2, Y2, test_size=0.2, random_state=42)\n",
    "#print(X_train.shape)\n",
    "#print(X_test.shape)\n",
    "#print(Y_train.shape)\n",
    "#print(Y_test.shape)\n",
    "\n",
    "X_train2 = X_train2.iloc[0:800000,:]\n",
    "X_test2 = X_test2.iloc[0:200000,:]\n",
    "Y_train2 = Y_train2.iloc[0:800000,]\n",
    "Y_test2 = Y_test2.iloc[0:200000,]\n",
    "\n",
    "#from matplotlib import pyplot as plt\n",
    "#Easy Random Forest\n",
    "model2 = RandomForestRegressor(n_estimators=20, n_jobs=-1)\n",
    "parameters2 = {\"n_estimators\": [50],\n",
    "              \"max_features\": [\"auto\"], # [\"auto\",\"sqrt\",\"log2\"]\n",
    "              \"max_depth\": [50]}\n",
    "best2 = cv_optimize(model2, parameters2, X_train2, Y_train2, n_folds=5, score_func='neg_mean_squared_error', verbose=3)\n",
    "\n",
    "# Fit the best Random Forest and calculate R^2 values for training and test sets\n",
    "reg2=best2.fit(X_train2, Y_train2)\n",
    "training_accuracy2 = reg2.score(X_train2, Y_train2)\n"
   ]
  },
  {
   "cell_type": "code",
   "execution_count": 47,
   "metadata": {},
   "outputs": [
    {
     "name": "stdout",
     "output_type": "stream",
     "text": [
      "############# based on standard predict ################\n",
      "R^2 on training data: 0.9659\n",
      "R^2 on test data:     0.7666\n"
     ]
    }
   ],
   "source": [
    "test_accuracy2 = reg2.score(X_test2, Y_test2)\n",
    "print(\"############# based on standard predict ################\")\n",
    "print(\"R^2 on training data: %0.4f\" % (training_accuracy2))\n",
    "print(\"R^2 on test data:     %0.4f\" % (test_accuracy2))"
   ]
  },
  {
   "cell_type": "markdown",
   "metadata": {},
   "source": [
    "## Drop distance_in_km (most important feature) to see what happens to R2 score"
   ]
  },
  {
   "cell_type": "code",
   "execution_count": 48,
   "metadata": {},
   "outputs": [
    {
     "name": "stdout",
     "output_type": "stream",
     "text": [
      "Fitting 5 folds for each of 1 candidates, totalling 5 fits\n",
      "[CV] max_depth=50, max_features=auto, n_estimators=50 ................\n"
     ]
    },
    {
     "name": "stderr",
     "output_type": "stream",
     "text": [
      "[Parallel(n_jobs=1)]: Using backend SequentialBackend with 1 concurrent workers.\n"
     ]
    },
    {
     "name": "stdout",
     "output_type": "stream",
     "text": [
      "[CV]  max_depth=50, max_features=auto, n_estimators=50, score=-77969.57491322793, total= 1.3min\n"
     ]
    },
    {
     "name": "stderr",
     "output_type": "stream",
     "text": [
      "[Parallel(n_jobs=1)]: Done   1 out of   1 | elapsed:  1.3min remaining:    0.0s\n"
     ]
    },
    {
     "name": "stdout",
     "output_type": "stream",
     "text": [
      "[CV] max_depth=50, max_features=auto, n_estimators=50 ................\n",
      "[CV]  max_depth=50, max_features=auto, n_estimators=50, score=-76620.09647597325, total= 1.2min\n",
      "[CV] max_depth=50, max_features=auto, n_estimators=50 ................\n"
     ]
    },
    {
     "name": "stderr",
     "output_type": "stream",
     "text": [
      "[Parallel(n_jobs=1)]: Done   2 out of   2 | elapsed:  2.6min remaining:    0.0s\n"
     ]
    },
    {
     "name": "stdout",
     "output_type": "stream",
     "text": [
      "[CV]  max_depth=50, max_features=auto, n_estimators=50, score=-78485.54941966369, total= 1.2min\n",
      "[CV] max_depth=50, max_features=auto, n_estimators=50 ................\n",
      "[CV]  max_depth=50, max_features=auto, n_estimators=50, score=-78537.83880137869, total= 1.2min\n",
      "[CV] max_depth=50, max_features=auto, n_estimators=50 ................\n",
      "[CV]  max_depth=50, max_features=auto, n_estimators=50, score=-77599.88632940265, total= 1.2min\n"
     ]
    },
    {
     "name": "stderr",
     "output_type": "stream",
     "text": [
      "[Parallel(n_jobs=1)]: Done   5 out of   5 | elapsed:  6.6min finished\n"
     ]
    },
    {
     "name": "stdout",
     "output_type": "stream",
     "text": [
      "############# based on standard predict ################\n",
      "R^2 on training data: 0.9664\n",
      "R^2 on test data:     0.7682\n"
     ]
    }
   ],
   "source": [
    "taxidata_9features = taxidata.drop(columns=['distance_in_km','wdsp', 'da', 'day_sine', 'temp', 'day_number', 'min', 'max', 'weekday', 'mo', 'gust', 'visib', 'prcp', 'sndp', 'day_binned', 'day_of_week', 'rain_drizzle', 'fog', 'snow_ice_pellets', 'year', 'hail', 'thunder'])\n",
    "X3 = taxidata_9features.drop([\"travel_time\"], axis=1) # all rows, no label\n",
    "Y3 = taxidata_9features[\"travel_time\"] # all rows, label only (travel_time)\n",
    "\n",
    "#print(X.shape)\n",
    "#print(Y.shape)\n",
    "\n",
    "X_train3, X_test3, Y_train3, Y_test3 = train_test_split(X3, Y3, test_size=0.2, random_state=42)\n",
    "#print(X_train.shape)\n",
    "#print(X_test.shape)\n",
    "#print(Y_train.shape)\n",
    "#print(Y_test.shape)\n",
    "\n",
    "X_train3 = X_train3.iloc[0:800000,:]\n",
    "X_test3 = X_test3.iloc[0:200000,:]\n",
    "Y_train3 = Y_train3.iloc[0:800000,]\n",
    "Y_test3 = Y_test3.iloc[0:200000,]\n",
    "\n",
    "#from matplotlib import pyplot as plt\n",
    "#Easy Random Forest\n",
    "model3 = RandomForestRegressor(n_estimators=20, n_jobs=-1)\n",
    "parameters3 = {\"n_estimators\": [50],\n",
    "              \"max_features\": [\"auto\"], # [\"auto\",\"sqrt\",\"log2\"]\n",
    "              \"max_depth\": [50]}\n",
    "best3 = cv_optimize(model3, parameters3, X_train3, Y_train3, n_folds=5, score_func='neg_mean_squared_error', verbose=3)\n",
    "\n",
    "# Fit the best Random Forest and calculate R^2 values for training and test sets\n",
    "reg3=best3.fit(X_train3, Y_train3)\n",
    "training_accuracy3 = reg3.score(X_train3, Y_train3)\n",
    "\n",
    "test_accuracy3 = reg3.score(X_test3, Y_test3)\n",
    "print(\"############# based on standard predict ################\")\n",
    "print(\"R^2 on training data: %0.4f\" % (training_accuracy3))\n",
    "print(\"R^2 on test data:     %0.4f\" % (test_accuracy3))\n"
   ]
  },
  {
   "cell_type": "markdown",
   "metadata": {},
   "source": [
    "Interesting result, the R2 score is approximately the same without the distance_in_km feature, which was found to be the most important feature above. "
   ]
  },
  {
   "cell_type": "markdown",
   "metadata": {},
   "source": [
    "### Run Random forest with full dataset (3 million datapoints) and all features"
   ]
  },
  {
   "cell_type": "code",
   "execution_count": 50,
   "metadata": {},
   "outputs": [
    {
     "name": "stdout",
     "output_type": "stream",
     "text": [
      "Fitting 5 folds for each of 1 candidates, totalling 5 fits\n",
      "[CV] max_depth=50, max_features=auto, n_estimators=50 ................\n"
     ]
    },
    {
     "name": "stderr",
     "output_type": "stream",
     "text": [
      "[Parallel(n_jobs=1)]: Using backend SequentialBackend with 1 concurrent workers.\n"
     ]
    },
    {
     "name": "stdout",
     "output_type": "stream",
     "text": [
      "[CV]  max_depth=50, max_features=auto, n_estimators=50, score=-69106.08838904348, total= 8.6min\n"
     ]
    },
    {
     "name": "stderr",
     "output_type": "stream",
     "text": [
      "[Parallel(n_jobs=1)]: Done   1 out of   1 | elapsed:  8.9min remaining:    0.0s\n"
     ]
    },
    {
     "name": "stdout",
     "output_type": "stream",
     "text": [
      "[CV] max_depth=50, max_features=auto, n_estimators=50 ................\n",
      "[CV]  max_depth=50, max_features=auto, n_estimators=50, score=-69333.50161390057, total= 8.1min\n"
     ]
    },
    {
     "name": "stderr",
     "output_type": "stream",
     "text": [
      "[Parallel(n_jobs=1)]: Done   2 out of   2 | elapsed: 17.3min remaining:    0.0s\n"
     ]
    },
    {
     "name": "stdout",
     "output_type": "stream",
     "text": [
      "[CV] max_depth=50, max_features=auto, n_estimators=50 ................\n",
      "[CV]  max_depth=50, max_features=auto, n_estimators=50, score=-69709.45258552574, total= 8.0min\n",
      "[CV] max_depth=50, max_features=auto, n_estimators=50 ................\n",
      "[CV]  max_depth=50, max_features=auto, n_estimators=50, score=-69604.59026566047, total= 8.1min\n",
      "[CV] max_depth=50, max_features=auto, n_estimators=50 ................\n",
      "[CV]  max_depth=50, max_features=auto, n_estimators=50, score=-69197.92113248898, total= 8.0min\n"
     ]
    },
    {
     "name": "stderr",
     "output_type": "stream",
     "text": [
      "[Parallel(n_jobs=1)]: Done   5 out of   5 | elapsed: 42.4min finished\n"
     ]
    },
    {
     "name": "stdout",
     "output_type": "stream",
     "text": [
      "############# based on standard predict ################\n",
      "R^2 on training data: 0.9702\n",
      "R^2 on test data:     0.7955\n"
     ]
    }
   ],
   "source": [
    "X_train4, X_test4, Y_train4, Y_test4 = train_test_split(X, Y, test_size=0.2, random_state=42)\n",
    "#print(X_train.shape)\n",
    "#print(X_test.shape)\n",
    "#print(Y_train.shape)\n",
    "#print(Y_test.shape)\n",
    "\n",
    "model4 = RandomForestRegressor(n_estimators=20, n_jobs=-1)\n",
    "parameters4 = {\"n_estimators\": [50],\n",
    "              \"max_features\": [\"auto\"], # [\"auto\",\"sqrt\",\"log2\"]\n",
    "              \"max_depth\": [50]}\n",
    "best4 = cv_optimize(model4, parameters4, X_train4, Y_train4, n_folds=5, score_func='neg_mean_squared_error', verbose=3)\n",
    "\n",
    "# Fit the best Random Forest and calculate R^2 values for training and test sets\n",
    "reg4=best4.fit(X_train4, Y_train4)\n",
    "training_accuracy4 = reg4.score(X_train4, Y_train4)\n",
    "\n",
    "test_accuracy4 = reg4.score(X_test4, Y_test4)\n",
    "print(\"############# based on standard predict ################\")\n",
    "print(\"R^2 on training data: %0.4f\" % (training_accuracy4))\n",
    "print(\"R^2 on test data:     %0.4f\" % (test_accuracy4))"
   ]
  },
  {
   "cell_type": "code",
   "execution_count": 72,
   "metadata": {},
   "outputs": [
    {
     "name": "stdout",
     "output_type": "stream",
     "text": [
      "RMSE = 261.041 (this is in log-space!)\n",
      "RMSLE = 0.402 (this is in log-space!)\n"
     ]
    }
   ],
   "source": [
    "#Output RMSE, RMSLE, R2\n",
    "rmse = np.sqrt(sklearn.metrics.mean_squared_error(reg4.predict(X_test4),Y_test4))\n",
    "print(\"RMSE = %0.3f (this is in log-space!)\" % rmse)\n",
    "\n",
    "rmsle = np.sqrt(sklearn.metrics.mean_squared_log_error(reg4.predict(X_test4),Y_test4))\n",
    "print(\"RMSLE = %0.3f (this is in log-space!)\" % rmsle)"
   ]
  },
  {
   "cell_type": "markdown",
   "metadata": {},
   "source": [
    "### Scale the input before fitting to get a reasonable RMSE/RMSLE"
   ]
  },
  {
   "cell_type": "code",
   "execution_count": null,
   "metadata": {},
   "outputs": [],
   "source": [
    "\n",
    "\n",
    "X_train4, X_test4, Y_train4, Y_test4 = train_test_split(X, Y, test_size=0.2, random_state=42)\n",
    "#print(X_train.shape)\n",
    "#print(X_test.shape)\n",
    "#print(Y_train.shape)\n",
    "#print(Y_test.shape)\n",
    "\n",
    "model4 = RandomForestRegressor(n_estimators=20, n_jobs=-1)\n",
    "parameters4 = {\"n_estimators\": [50],\n",
    "              \"max_features\": [\"auto\"], # [\"auto\",\"sqrt\",\"log2\"]\n",
    "              \"max_depth\": [50]}\n",
    "\n",
    "X_train4 = scale(X_train4)\n",
    "X_test4 = scale(X_test4)\n",
    "Y_train4 = scale(Y_train4)\n",
    "Y_test4 = scale(Y_test4)\n",
    "\n",
    "best4 = cv_optimize(model4, parameters4, X_train4, Y_train4, n_folds=5, score_func='neg_mean_squared_error', verbose=3)\n",
    "\n",
    "# Fit the best Random Forest and calculate R^2 values for training and test sets\n",
    "reg4=best4.fit(X_train4, Y_train4)\n",
    "training_accuracy4 = reg4.score(X_train4, Y_train4)\n",
    "\n",
    "test_accuracy4 = reg4.score(X_test4, Y_test4)\n",
    "print(\"############# based on standard predict ################\")\n",
    "print(\"R^2 on training data: %0.4f\" % (training_accuracy4))\n",
    "print(\"R^2 on test data:     %0.4f\" % (test_accuracy4))"
   ]
  },
  {
   "cell_type": "markdown",
   "metadata": {},
   "source": [
    "### Test on test dataset"
   ]
  },
  {
   "cell_type": "code",
   "execution_count": null,
   "metadata": {},
   "outputs": [],
   "source": [
    "testing_data = pd.read_csv(r'C:\\Users\\diana\\Dropbox\\Spring2018Classes\\DataSciIndustry\\FInalProject\\taxi_weather_data.csv')\n",
    "testing_data = testing_data.drop(testing_data.columns[0], axis=1)\n",
    "testing_data = testing_data.drop(columns=\"pickup_datetime\", axis=1)\n",
    "testing_data = testing_data.fillna(testing_data.mean())\n",
    "predictions = reg4.predict(testing_data)\n"
   ]
  },
  {
   "cell_type": "markdown",
   "metadata": {},
   "source": [
    "### Experiment with 9 features related to time, day, and geographical coordinates"
   ]
  },
  {
   "cell_type": "code",
   "execution_count": 64,
   "metadata": {},
   "outputs": [
    {
     "name": "stdout",
     "output_type": "stream",
     "text": [
      "Fitting 5 folds for each of 1 candidates, totalling 5 fits\n",
      "[CV] max_depth=50, max_features=auto, n_estimators=50 ................\n"
     ]
    },
    {
     "name": "stderr",
     "output_type": "stream",
     "text": [
      "[Parallel(n_jobs=1)]: Using backend SequentialBackend with 1 concurrent workers.\n"
     ]
    },
    {
     "name": "stdout",
     "output_type": "stream",
     "text": [
      "[CV]  max_depth=50, max_features=auto, n_estimators=50, score=-305420.4657434014, total= 3.6min\n"
     ]
    },
    {
     "name": "stderr",
     "output_type": "stream",
     "text": [
      "[Parallel(n_jobs=1)]: Done   1 out of   1 | elapsed:  3.9min remaining:    0.0s\n"
     ]
    },
    {
     "name": "stdout",
     "output_type": "stream",
     "text": [
      "[CV] max_depth=50, max_features=auto, n_estimators=50 ................\n",
      "[CV]  max_depth=50, max_features=auto, n_estimators=50, score=-306713.0368688267, total= 3.4min\n"
     ]
    },
    {
     "name": "stderr",
     "output_type": "stream",
     "text": [
      "[Parallel(n_jobs=1)]: Done   2 out of   2 | elapsed:  7.6min remaining:    0.0s\n"
     ]
    },
    {
     "name": "stdout",
     "output_type": "stream",
     "text": [
      "[CV] max_depth=50, max_features=auto, n_estimators=50 ................\n",
      "[CV]  max_depth=50, max_features=auto, n_estimators=50, score=-307079.6969256474, total= 3.3min\n",
      "[CV] max_depth=50, max_features=auto, n_estimators=50 ................\n",
      "[CV]  max_depth=50, max_features=auto, n_estimators=50, score=-307441.01531783317, total= 3.1min\n",
      "[CV] max_depth=50, max_features=auto, n_estimators=50 ................\n",
      "[CV]  max_depth=50, max_features=auto, n_estimators=50, score=-306625.27105859807, total= 3.1min\n"
     ]
    },
    {
     "name": "stderr",
     "output_type": "stream",
     "text": [
      "[Parallel(n_jobs=1)]: Done   5 out of   5 | elapsed: 18.1min finished\n"
     ]
    },
    {
     "name": "stdout",
     "output_type": "stream",
     "text": [
      "############# based on standard predict ################\n",
      "R^2 on training data: 0.8635\n",
      "R^2 on test data:     0.0764\n"
     ]
    }
   ],
   "source": [
    "X5 = taxidata[[\"time_binned\", \"time_cosine\", \"time_sine\", \"day_binned\", \"day_cosine\", \"day_sine\", \"weekday\", \"pickup_latitude\", \"pickup_longitude\"]]\n",
    "Y5 = taxidata[\"travel_time\"] # all rows, label only (travel_time)\n",
    "\n",
    "X_train5, X_test5, Y_train5, Y_test5 = train_test_split(X5, Y5, test_size=0.2, random_state=42)\n",
    "#print(X_train.shape)\n",
    "#print(X_test.shape)\n",
    "#print(Y_train.shape)\n",
    "#print(Y_test.shape)\n",
    "\n",
    "model5 = RandomForestRegressor(n_estimators=20, n_jobs=-1)\n",
    "parameters5 = {\"n_estimators\": [50],\n",
    "              \"max_features\": [\"auto\"], # [\"auto\",\"sqrt\",\"log2\"]\n",
    "              \"max_depth\": [50]}\n",
    "best5 = cv_optimize(model5, parameters5, X_train5, Y_train5, n_folds=5, score_func='neg_mean_squared_error', verbose=3)\n",
    "\n",
    "# Fit the best Random Forest and calculate R^2 values for training and test sets\n",
    "reg5=best5.fit(X_train5, Y_train5)\n",
    "training_accuracy5 = reg5.score(X_train5, Y_train5)\n",
    "\n",
    "test_accuracy5 = reg5.score(X_test5, Y_test5)\n",
    "print(\"############# based on standard predict ################\")\n",
    "print(\"R^2 on training data: %0.4f\" % (training_accuracy5))\n",
    "print(\"R^2 on test data:     %0.4f\" % (test_accuracy5))"
   ]
  },
  {
   "cell_type": "code",
   "execution_count": 62,
   "metadata": {},
   "outputs": [
    {
     "name": "stdout",
     "output_type": "stream",
     "text": [
      "RMSE = 554.418 (this is in log-space!)\n",
      "RMSE = 0.787 (this is in log-space!)\n"
     ]
    }
   ],
   "source": [
    "#Output RMSE, RMSLE, R2\n",
    "rmse = np.sqrt(sklearn.metrics.mean_squared_error(reg5.predict(X_test5),Y_test5))\n",
    "print(\"RMSE = %0.3f (this is in log-space!)\" % rmse)\n",
    "\n",
    "rmsle = np.sqrt(sklearn.metrics.mean_squared_log_error(reg5.predict(X_test5),Y_test5))\n",
    "print(\"RMSLE = %0.3f (this is in log-space!)\" % rmsle)"
   ]
  },
  {
   "cell_type": "markdown",
   "metadata": {},
   "source": [
    "### Alternative approach testing: Random hyperparameter grid search"
   ]
  },
  {
   "cell_type": "code",
   "execution_count": null,
   "metadata": {},
   "outputs": [],
   "source": [
    "from sklearn.model_selection import RandomizedSearchCV\n",
    "from pprint import pprint\n",
    "\n",
    "# Number of trees in random forest\n",
    "n_estimators = [int(x) for x in np.linspace(start = 10, stop = 200, num = 20)]\n",
    "\n",
    "# Number of features to consider at every split\n",
    "max_features = ['auto', 'sqrt']\n",
    "\n",
    "# Maximum number of levels in tree\n",
    "max_depth = [int(x) for x in np.linspace(10, 200, num = 20)]\n",
    "max_depth.append(None)\n",
    "\n",
    "# Minimum number of samples required to split a node\n",
    "min_samples_split = [2, 5, 10]\n",
    "\n",
    "# Minimum number of samples required at each leaf node\n",
    "min_samples_leaf = [1, 2, 4]\n",
    "\n",
    "# Method of selecting samples for training each tree\n",
    "bootstrap = [True, False]\n",
    "\n",
    "# Create the random grid\n",
    "random_grid = {'n_estimators': n_estimators,\n",
    "               'max_features': max_features,\n",
    "               'max_depth': max_depth,\n",
    "               'min_samples_split': min_samples_split,\n",
    "               'min_samples_leaf': min_samples_leaf,\n",
    "               'bootstrap': bootstrap}"
   ]
  },
  {
   "cell_type": "markdown",
   "metadata": {},
   "source": [
    "### Following random hyperparameter grid search parameter choice, train with random search"
   ]
  },
  {
   "cell_type": "code",
   "execution_count": 22,
   "metadata": {},
   "outputs": [
    {
     "name": "stdout",
     "output_type": "stream",
     "text": [
      "Fitting 5 folds for each of 100 candidates, totalling 500 fits\n"
     ]
    },
    {
     "name": "stderr",
     "output_type": "stream",
     "text": [
      "[Parallel(n_jobs=-1)]: Using backend LokyBackend with 8 concurrent workers.\n",
      "[Parallel(n_jobs=-1)]: Done  25 tasks      | elapsed:  6.8min\n",
      "[Parallel(n_jobs=-1)]: Done 146 tasks      | elapsed: 24.4min\n",
      "[Parallel(n_jobs=-1)]: Done 349 tasks      | elapsed: 63.4min\n",
      "[Parallel(n_jobs=-1)]: Done 500 out of 500 | elapsed: 88.0min finished\n"
     ]
    },
    {
     "data": {
      "text/plain": [
       "RandomizedSearchCV(cv=5, error_score='raise-deprecating',\n",
       "          estimator=RandomForestRegressor(bootstrap=True, criterion='mse', max_depth=None,\n",
       "           max_features='auto', max_leaf_nodes=None,\n",
       "           min_impurity_decrease=0.0, min_impurity_split=None,\n",
       "           min_samples_leaf=1, min_samples_split=2,\n",
       "           min_weight_fraction_leaf=0.0, n_estimators='warn', n_jobs=None,\n",
       "           oob_score=False, random_state=None, verbose=0, warm_start=False),\n",
       "          fit_params=None, iid='warn', n_iter=100, n_jobs=-1,\n",
       "          param_distributions={'n_estimators': [10, 20, 30, 40, 50, 60, 70, 80, 90, 100, 110, 120, 130, 140, 150, 160, 170, 180, 190, 200], 'max_features': ['auto', 'sqrt'], 'max_depth': [10, 20, 30, 40, 50, 60, 70, 80, 90, 100, 110, 120, 130, 140, 150, 160, 170, 180, 190, 200, None], 'min_samples_split': [2, 5, 10], 'min_samples_leaf': [1, 2, 4], 'bootstrap': [True, False]},\n",
       "          pre_dispatch='2*n_jobs', random_state=42, refit=True,\n",
       "          return_train_score='warn', scoring=None, verbose=2)"
      ]
     },
     "execution_count": 22,
     "metadata": {},
     "output_type": "execute_result"
    }
   ],
   "source": [
    "# Use the random grid to search for best hyperparameters\n",
    "\n",
    "# First create the base model to tune\n",
    "rf = RandomForestRegressor()\n",
    "\n",
    "# Random search of parameters, using five-fold cross validation, \n",
    "# search across 100 different combinations, and use all available cores\n",
    "# Fit the random search model\n",
    "\n",
    "rf_random = RandomizedSearchCV(estimator = rf, param_distributions = random_grid, n_iter = 100, cv = 5, verbose=2, random_state=42, n_jobs = -1)\n",
    "rf_random.fit(X_train, Y_train)"
   ]
  },
  {
   "cell_type": "markdown",
   "metadata": {},
   "source": [
    "### Identify best parameters from random grid search"
   ]
  },
  {
   "cell_type": "code",
   "execution_count": 23,
   "metadata": {},
   "outputs": [
    {
     "data": {
      "text/plain": [
       "{'n_estimators': 200,\n",
       " 'min_samples_split': 5,\n",
       " 'min_samples_leaf': 2,\n",
       " 'max_features': 'auto',\n",
       " 'max_depth': 60,\n",
       " 'bootstrap': True}"
      ]
     },
     "execution_count": 23,
     "metadata": {},
     "output_type": "execute_result"
    }
   ],
   "source": [
    "rf_random.best_params_"
   ]
  },
  {
   "cell_type": "markdown",
   "metadata": {},
   "source": [
    "### Evaluate Random Search"
   ]
  },
  {
   "cell_type": "code",
   "execution_count": 25,
   "metadata": {},
   "outputs": [
    {
     "name": "stdout",
     "output_type": "stream",
     "text": [
      "Model Performance\n",
      "Average Error: 217.2289 degrees.\n",
      "Accuracy = 39.76%.\n",
      "Model Performance\n",
      "Average Error: 203.6144 degrees.\n",
      "Accuracy = 47.66%.\n",
      "Improvement of 19.89%.\n"
     ]
    }
   ],
   "source": [
    "def evaluate(model, test_features, test_labels):\n",
    "    predictions = model.predict(test_features)\n",
    "    errors = abs(predictions - test_labels)\n",
    "    mape = 100 * np.mean(errors / test_labels)\n",
    "    accuracy = 100 - mape\n",
    "    print('Model Performance')\n",
    "    print('Average Error: {:0.4f} degrees.'.format(np.mean(errors)))\n",
    "    print('Accuracy = {:0.2f}%.'.format(accuracy))    \n",
    "    return accuracy\n",
    "\n",
    "base_model = RandomForestRegressor(n_estimators = 10, random_state = 42)\n",
    "base_model.fit(X_train, Y_train)\n",
    "base_accuracy = evaluate(base_model, X_test, Y_test)\n",
    "\n",
    "best_random = rf_random.best_estimator_\n",
    "random_accuracy = evaluate(best_random, X_test, Y_test)\n",
    "\n",
    "print('Improvement of {:0.2f}%.'.format( 100 * (random_accuracy - base_accuracy) / base_accuracy))"
   ]
  },
  {
   "cell_type": "markdown",
   "metadata": {},
   "source": [
    "### Based on results of random search, perform grid search with cross validation"
   ]
  },
  {
   "cell_type": "code",
   "execution_count": 31,
   "metadata": {},
   "outputs": [],
   "source": [
    "from sklearn.model_selection import GridSearchCV\n",
    "# Create the parameter grid based on the results of random search \n",
    "param_grid = {\n",
    "    'bootstrap': [True],\n",
    "    'max_depth': [50, 70, 80, 90],\n",
    "    'max_features': ['auto'],\n",
    "    'min_samples_leaf': [1, 2, 3],\n",
    "    'min_samples_split': [3, 5, 7],\n",
    "    'n_estimators': [50, 100, 300, 1000]\n",
    "}\n",
    "# Create a based model\n",
    "rf = RandomForestRegressor()\n",
    "# Instantiate the grid search model\n",
    "grid_search = GridSearchCV(estimator = rf, param_grid = param_grid, cv = 5, n_jobs = -1, verbose = 2)"
   ]
  },
  {
   "cell_type": "markdown",
   "metadata": {},
   "source": [
    "### Fit the model, display the best hyperparameters, evaluate performance"
   ]
  },
  {
   "cell_type": "code",
   "execution_count": 32,
   "metadata": {},
   "outputs": [
    {
     "name": "stdout",
     "output_type": "stream",
     "text": [
      "Fitting 5 folds for each of 144 candidates, totalling 720 fits\n"
     ]
    },
    {
     "name": "stderr",
     "output_type": "stream",
     "text": [
      "[Parallel(n_jobs=-1)]: Using backend LokyBackend with 8 concurrent workers.\n",
      "[Parallel(n_jobs=-1)]: Done  25 tasks      | elapsed: 12.8min\n",
      "[Parallel(n_jobs=-1)]: Done 146 tasks      | elapsed: 114.9min\n",
      "[Parallel(n_jobs=-1)]: Done 349 tasks      | elapsed: 278.1min\n",
      "[Parallel(n_jobs=-1)]: Done 632 tasks      | elapsed: 509.5min\n",
      "[Parallel(n_jobs=-1)]: Done 720 out of 720 | elapsed: 585.1min finished\n"
     ]
    },
    {
     "name": "stdout",
     "output_type": "stream",
     "text": [
      "Model Performance\n",
      "Average Error: 202.8605 degrees.\n",
      "Accuracy = 48.17%.\n",
      "Improvement of 21.18%.\n"
     ]
    }
   ],
   "source": [
    "# Fit the grid search to the data\n",
    "grid_search.fit(X_train, Y_train)\n",
    "grid_search.best_params_\n",
    "{'bootstrap': True,\n",
    " 'max_depth': 60,\n",
    " 'max_features': 'auto',\n",
    " 'min_samples_leaf': 2,\n",
    " 'min_samples_split': 5,\n",
    " 'n_estimators': 200}\n",
    "best_grid = grid_search.best_estimator_\n",
    "grid_accuracy = evaluate(best_grid, X_test, Y_test)\n",
    "\n",
    "print('Improvement of {:0.2f}%.'.format( 100 * (grid_accuracy - base_accuracy) / base_accuracy))\n"
   ]
  },
  {
   "cell_type": "markdown",
   "metadata": {},
   "source": [
    "We can see that the alternative method of random grid search had low performance compared to the final model chosen for this project. "
   ]
  },
  {
   "cell_type": "code",
   "execution_count": null,
   "metadata": {},
   "outputs": [],
   "source": []
  }
 ],
 "metadata": {
  "kernelspec": {
   "display_name": "Python 3",
   "language": "python",
   "name": "python3"
  },
  "language_info": {
   "codemirror_mode": {
    "name": "ipython",
    "version": 3
   },
   "file_extension": ".py",
   "mimetype": "text/x-python",
   "name": "python",
   "nbconvert_exporter": "python",
   "pygments_lexer": "ipython3",
   "version": "3.7.3"
  }
 },
 "nbformat": 4,
 "nbformat_minor": 2
}
